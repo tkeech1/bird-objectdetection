{
 "cells": [
  {
   "cell_type": "code",
   "execution_count": null,
   "id": "0a876717",
   "metadata": {},
   "outputs": [],
   "source": [
    "import os\n",
    "from functools import partial\n",
    "from multiprocessing.pool import Pool\n",
    "\n",
    "import cv2\n",
    "import youtube_dl\n",
    "import pprint as pp\n",
    "from datetime import datetime\n",
    "import time\n",
    "from PIL import Image, ImageFile\n",
    "\n",
    "video_url = \"https://www.youtube.com/watch?v=N609loYkFJo\" # cornell\n",
    "#video_url = \"https://www.youtube.com/watch?v=lNzBUZbtlDM\" # pa bird\n",
    "#video_url = \"https://www.youtube.com/watch?v=hF0_xJqpXrM\" # canada bird\n",
    "#video_url='https://www.youtube.com/watch?v=7L8ZOhnFZLM' # canada bird\n",
    "\n",
    "ydl_opts={}\n",
    "ydl=youtube_dl.YoutubeDL(ydl_opts)\n",
    "info_dict=ydl.extract_info(video_url, download=False)\n",
    "\n",
    "#pp.pprint(info_dict)\n",
    "\n",
    "url = info_dict.get('url',None)\n",
    "\n",
    "count = 0 \n",
    "raw_data_dir = './data/raw_images'\n",
    "\n",
    "while True:\n",
    "    timestamp = datetime.now().strftime(\"%Y%m%d_%H%M%s\")\n",
    "    cap = cv2.VideoCapture(url)\n",
    "    ret, frame = cap.read()\n",
    "    if not ret:\n",
    "        continue\n",
    "    print(f'writing image {count} at {timestamp}')\n",
    "    filename = f\"{raw_data_dir}/frame_{timestamp}.png\"\n",
    "    count += 1\n",
    "    cv2.imwrite(filename, frame)\n",
    "    cap.release()   \n",
    "\n",
    "    img = Image.open(f\"{raw_data_dir}/frame_{timestamp}.png\")\n",
    "    img = img.resize((512,512))\n",
    "    img.save(f\"{raw_data_dir}/frame_{timestamp}.jpeg\", \"JPEG\", quality=100, optimize=True, progressive=True)\n",
    "    os.remove(f\"{raw_data_dir}/frame_{timestamp}.png\")\n",
    "    \n",
    "    time.sleep(300)    "
   ]
  },
  {
   "cell_type": "code",
   "execution_count": null,
   "id": "54bf29cb",
   "metadata": {},
   "outputs": [],
   "source": []
  }
 ],
 "metadata": {
  "kernelspec": {
   "display_name": "Python 3",
   "language": "python",
   "name": "python3"
  },
  "language_info": {
   "codemirror_mode": {
    "name": "ipython",
    "version": 3
   },
   "file_extension": ".py",
   "mimetype": "text/x-python",
   "name": "python",
   "nbconvert_exporter": "python",
   "pygments_lexer": "ipython3",
   "version": "3.6.9"
  }
 },
 "nbformat": 4,
 "nbformat_minor": 5
}
