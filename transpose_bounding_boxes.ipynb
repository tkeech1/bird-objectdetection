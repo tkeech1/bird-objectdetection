{
 "cells": [
  {
   "cell_type": "code",
   "execution_count": null,
   "id": "237ba1d6-2f8f-4cdf-859a-a35728ed50ad",
   "metadata": {},
   "outputs": [],
   "source": [
    "import os\n",
    "from pathlib import Path\n",
    "from PIL import Image\n",
    "from datetime import datetime\n",
    "\n",
    "def resize(directory):\n",
    "    base_dir = Path(directory)\n",
    "    for filename in os.listdir(base_dir):\n",
    "        if os.path.isdir(base_dir / filename):\n",
    "           print(f'{filename} is a directory')\n",
    "           resize(base_dir / filename)\n",
    "        elif filename.endswith('.jpeg'):\n",
    "           img = Image.open(base_dir / filename) \n",
    "           print(f'resizing {filename}')\n",
    "           img = img.resize((512,512))\n",
    "           img.save(base_dir / filename)            \n",
    "\n",
    "resize('./data/annotated_images/)"
   ]
  },
  {
   "cell_type": "code",
   "execution_count": null,
   "id": "c3213279-1b71-4235-b7f0-700a45bd062a",
   "metadata": {},
   "outputs": [],
   "source": [
    "import os\n",
    "from pathlib import Path\n",
    "import xml.etree.ElementTree\n",
    "from datetime import datetime\n",
    "\n",
    "def transpose_bounding_boxes(directory):\n",
    "    base_dir = Path(directory)\n",
    "    for filename in os.listdir(base_dir):\n",
    "        if os.path.isdir(base_dir / filename):\n",
    "            print(f'{filename} is a directory')\n",
    "            transpose_bounding_boxes(base_dir / filename)\n",
    "        elif filename.endswith('.xml'):\n",
    "            tree = xml.etree.ElementTree.parse(base_dir / filename)\n",
    "            root = tree.getroot()  \n",
    "            print(f'{filename}')\n",
    "            for i in tree.find(\"./size\"):\n",
    "                if i.tag in ['height','width']:\n",
    "                    i.text = str(512)                \n",
    "            for o in tree.findall(\"./object\"):\n",
    "                for item in o.find(\"./bndbox\"):\n",
    "                    if item.tag in ['xmin','xmax']:\n",
    "                        item.text = str(int(item.text)*512 // 1920)\n",
    "                    else:\n",
    "                        item.text = str(int(item.text)*512 // 1080)\n",
    "                    print(item.text) \n",
    "            tree.write(base_dir / filename)\n",
    "\n",
    "transpose_bounding_boxes('./data/annotated_images/)"
   ]
  },
  {
   "cell_type": "code",
   "execution_count": null,
   "id": "284a33b1-4768-46f7-9fa8-4e682a7b4d2f",
   "metadata": {},
   "outputs": [],
   "source": []
  }
 ],
 "metadata": {
  "kernelspec": {
   "display_name": "Python 3",
   "language": "python",
   "name": "python3"
  },
  "language_info": {
   "codemirror_mode": {
    "name": "ipython",
    "version": 3
   },
   "file_extension": ".py",
   "mimetype": "text/x-python",
   "name": "python",
   "nbconvert_exporter": "python",
   "pygments_lexer": "ipython3",
   "version": "3.6.9"
  }
 },
 "nbformat": 4,
 "nbformat_minor": 5
}
